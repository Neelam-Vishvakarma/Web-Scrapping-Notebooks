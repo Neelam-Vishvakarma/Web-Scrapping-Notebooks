{
 "cells": [
  {
   "cell_type": "markdown",
   "id": "3e40c5a2",
   "metadata": {},
   "source": [
    "# 03_imdb_top_250.ipynb\n",
    "\n",
    "Scrape movie names, release years, and ratings from [IMDB Top 250](https://www.imdb.com/chart/top) using `requests` + `BeautifulSoup`. Beginner-friendly with step-by-step explanation."
   ]
  },
  {
   "cell_type": "code",
   "execution_count": null,
   "id": "d9867816",
   "metadata": {},
   "outputs": [],
   "source": [
    "import requests\n",
    "from bs4 import BeautifulSoup\n",
    "import pandas as pd"
   ]
  },
  {
   "cell_type": "code",
   "execution_count": null,
   "id": "5f45ae33",
   "metadata": {},
   "outputs": [],
   "source": [
    "url = \"https://www.imdb.com/chart/top\""
   ]
  },
  {
   "cell_type": "code",
   "execution_count": null,
   "id": "55671f5b",
   "metadata": {},
   "outputs": [],
   "source": [
    "response = requests.get(url)\n",
    "soup = BeautifulSoup(response.content, \"html.parser\")"
   ]
  },
  {
   "cell_type": "code",
   "execution_count": null,
   "id": "90b98904",
   "metadata": {},
   "outputs": [],
   "source": [
    "# Each row (movie) is inside <tbody> of class \"lister-list\"\n",
    "movie_table = soup.find(\"tbody\", class_=\"lister-list\")\n",
    "movie_rows = movie_table.find_all(\"tr\")\n",
    "\n",
    "print(f\"Total Movies Found: {len(movie_rows)}\")"
   ]
  },
  {
   "cell_type": "code",
   "execution_count": null,
   "id": "d9e5ceb1",
   "metadata": {},
   "outputs": [],
   "source": [
    "# Let's inspect just the first movie for understanding\n",
    "first_movie = movie_rows[0]\n",
    "print(first_movie.prettify()[:1000])  # Preview"
   ]
  },
  {
   "cell_type": "code",
   "execution_count": null,
   "id": "5b55cc0d",
   "metadata": {},
   "outputs": [],
   "source": [
    "title_column = first_movie.find(\"td\", class_=\"titleColumn\")\n",
    "title = title_column.a.text.strip()\n",
    "year = title_column.span.text.strip(\"()\")\n",
    "rating = first_movie.find(\"td\", class_=\"ratingColumn imdbRating\").strong.text.strip()\n",
    "\n",
    "print(\"Title:\", title)\n",
    "print(\"Year:\", year)\n",
    "print(\"Rating:\", rating)"
   ]
  },
  {
   "cell_type": "code",
   "execution_count": null,
   "id": "9eb1a47b",
   "metadata": {},
   "outputs": [],
   "source": [
    "titles = []\n",
    "years = []\n",
    "ratings = []\n",
    "\n",
    "for row in movie_rows:\n",
    "    title_column = row.find(\"td\", class_=\"titleColumn\")\n",
    "    title = title_column.a.text.strip()\n",
    "    year = title_column.span.text.strip(\"()\")\n",
    "    rating = row.find(\"td\", class_=\"ratingColumn imdbRating\").strong.text.strip()\n",
    "\n",
    "    titles.append(title)\n",
    "    years.append(year)\n",
    "    ratings.append(rating)"
   ]
  },
  {
   "cell_type": "code",
   "execution_count": null,
   "id": "bfa6425c",
   "metadata": {},
   "outputs": [],
   "source": [
    "df = pd.DataFrame({\n",
    "    \"Title\": titles,\n",
    "    \"Year\": years,\n",
    "    \"IMDB Rating\": ratings\n",
    "})\n",
    "\n",
    "df.head()"
   ]
  },
  {
   "cell_type": "code",
   "execution_count": null,
   "id": "ba8c3a96",
   "metadata": {},
   "outputs": [],
   "source": [
    "df.to_csv(\"imdb_top_250.csv\", index=False)\n",
    "print(\"Saved to imdb_top_250.csv\")"
   ]
  }
 ],
 "metadata": {},
 "nbformat": 4,
 "nbformat_minor": 5
}
