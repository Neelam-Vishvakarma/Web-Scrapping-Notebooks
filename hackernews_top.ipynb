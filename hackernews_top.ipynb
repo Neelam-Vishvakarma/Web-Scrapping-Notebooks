{
 "cells": [
  {
   "cell_type": "markdown",
   "metadata": {},
   "source": [
    "# Scrap top Hacker News\n",
    "\n",
    "### Objective:\n",
    "Scraped the top post titles and links from [Hacker News](https://news.ycombinator.com/) homepage using `requests` and `BeautifulSoup`."
   ]
  },
  {
   "cell_type": "code",
   "execution_count": null,
   "metadata": {},
   "outputs": [],
   "source": [
    "# 🧰 Step 1: Import Libraries\n",
    "import requests\n",
    "from bs4 import BeautifulSoup\n",
    "import pandas as pd"
   ]
  },
  {
   "cell_type": "code",
   "execution_count": null,
   "metadata": {},
   "outputs": [],
   "source": [
    "# 🌐 Step 2: Set URL and Send Request\n",
    "url = \"https://news.ycombinator.com/\"\n",
    "response = requests.get(url)\n",
    "soup = BeautifulSoup(response.text, 'html.parser')"
   ]
  },
  {
   "cell_type": "code",
   "execution_count": null,
   "metadata": {},
   "outputs": [],
   "source": [
    "# 🔍 Step 3: Inspect a Single Post (for beginners)\n",
    "first_post = soup.find('tr', class_='athing')\n",
    "print(first_post.prettify()[:1000])  # Preview structure"
   ]
  },
  {
   "cell_type": "code",
   "execution_count": null,
   "metadata": {},
   "outputs": [],
   "source": [
    "# 📌 Step 4: Extract Title and Link of One Post\n",
    "title_tag = first_post.find('a', class_='storylink')\n",
    "title = title_tag.text.strip() if title_tag else 'N/A'\n",
    "link = title_tag['href'] if title_tag else 'N/A'\n",
    "print(\"Title:\", title)\n",
    "print(\"Link:\", link)"
   ]
  },
  {
   "cell_type": "code",
   "execution_count": null,
   "metadata": {},
   "outputs": [],
   "source": [
    "# 🔁 Step 5: Extract All Titles and Links\n",
    "titles = []\n",
    "links = []\n",
    "all_posts = soup.find_all('tr', class_='athing')\n",
    "\n",
    "for post in all_posts:\n",
    "    tag = post.find('a', class_='storylink')\n",
    "    if tag:\n",
    "        titles.append(tag.text.strip())\n",
    "        links.append(tag['href'])"
   ]
  },
  {
   "cell_type": "code",
   "execution_count": null,
   "metadata": {},
   "outputs": [],
   "source": [
    "# 📊 Step 6: Create DataFrame\n",
    "df = pd.DataFrame({\n",
    "    'Title': titles,\n",
    "    'Link': links\n",
    "})\n",
    "df.head()"
   ]
  },
  {
   "cell_type": "code",
   "execution_count": null,
   "metadata": {},
   "outputs": [],
   "source": [
    "# 💾 Step 7: Save to CSV\n",
    "df.to_csv(\"hackernews_top_posts.csv\", index=False)\n",
    "print(\"Saved to hackernews_top_posts.csv\")"
   ]
  },
  {
   "cell_type": "markdown",
   "metadata": {},
   "source": [
    "---\n",
    "### ✅ Summary:\n",
    "- Fetched Hacker News front page\n",
    "- Extracted post titles and links\n",
    "- Created a DataFrame and saved to CSV"
   ]
  }
 ],
 "metadata": {
  "kernelspec": {
   "display_name": "Python 3",
   "language": "python",
   "name": "python3"
  },
  "language_info": {
   "name": "python",
   "version": ""
  }
 },
 "nbformat": 4,
 "nbformat_minor": 5
}
