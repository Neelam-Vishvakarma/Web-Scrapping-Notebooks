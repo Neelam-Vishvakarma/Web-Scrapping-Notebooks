{
 "cells": [
  {
   "cell_type": "markdown",
   "metadata": {},
   "source": [
    "# github_trending.ipynb\n",
    "\n",
    "### Objective:\n",
    "Scrape trending repositories on GitHub Trending page\n",
    "- Extract repo name, description, stars, and language\n",
    "- Practice step-by-step scraping with BeautifulSoup\n"
   ]
  },
  {
   "cell_type": "code",
   "execution_count": null,
   "metadata": {},
   "outputs": [],
   "source": [
    "# Step 1: Import libraries\n",
    "import requests\n",
    "from bs4 import BeautifulSoup\n",
    "import pandas as pd"
   ]
  },
  {
   "cell_type": "code",
   "execution_count": null,
   "metadata": {},
   "outputs": [],
   "source": [
    "# Step 2: Define URL and get page content\n",
    "url = 'https://github.com/trending'\n",
    "headers = {'User-Agent': 'Mozilla/5.0'}\n",
    "response = requests.get(url, headers=headers)\n",
    "soup = BeautifulSoup(response.text, 'html.parser')"
   ]
  },
  {
   "cell_type": "code",
   "execution_count": null,
   "metadata": {},
   "outputs": [],
   "source": [
    "# Step 3: Find one repo block to understand structure\n",
    "repo = soup.find('article', class_='Box-row')\n",
    "print(repo.prettify()[:1000])"
   ]
  },
  {
   "cell_type": "code",
   "execution_count": null,
   "metadata": {},
   "outputs": [],
   "source": [
    "# Step 4: Extract repo name\n",
    "repo_name_tag = repo.h1.a\n",
    "repo_name = repo_name_tag.text.strip().replace('\\n', '').replace(' ', '')\n",
    "print(f\"Repository Name: {repo_name}\")"
   ]
  },
  {
   "cell_type": "code",
   "execution_count": null,
   "metadata": {},
   "outputs": [],
   "source": [
    "# Step 5: Extract repo description\n",
    "desc_tag = repo.find('p', class_='col-9 color-fg-muted my-1 pr-4')\n",
    "description = desc_tag.text.strip() if desc_tag else 'No description'\n",
    "print(f\"Description: {description}\")"
   ]
  },
  {
   "cell_type": "code",
   "execution_count": null,
   "metadata": {},
   "outputs": [],
   "source": [
    "# Step 6: Extract programming language\n",
    "lang_tag = repo.find('span', itemprop='programmingLanguage')\n",
    "language = lang_tag.text.strip() if lang_tag else 'N/A'\n",
    "print(f\"Language: {language}\")"
   ]
  },
  {
   "cell_type": "code",
   "execution_count": null,
   "metadata": {},
   "outputs": [],
   "source": [
    "# Step 7: Extract stars count\n",
    "stars_tag = repo.find('a', href=lambda x: x and x.endswith('/stargazers'))\n",
    "stars = stars_tag.text.strip() if stars_tag else '0'\n",
    "print(f\"Stars: {stars}\")"
   ]
  },
  {
   "cell_type": "code",
   "execution_count": null,
   "metadata": {},
   "outputs": [],
   "source": [
    "# Step 8: Loop through all repos\n",
    "repo_names = []\n",
    "descriptions = []\n",
    "languages = []\n",
    "stars_list = []\n",
    "\n",
    "all_repos = soup.find_all('article', class_='Box-row')\n",
    "\n",
    "for repo in all_repos:\n",
    "    name_tag = repo.h1.a\n",
    "    name = name_tag.text.strip().replace('\\n', '').replace(' ', '') if name_tag else 'N/A'\n",
    "\n",
    "    desc_tag = repo.find('p', class_='col-9 color-fg-muted my-1 pr-4')\n",
    "    desc = desc_tag.text.strip() if desc_tag else 'No description'\n",
    "\n",
    "    lang_tag = repo.find('span', itemprop='programmingLanguage')\n",
    "    lang = lang_tag.text.strip() if lang_tag else 'N/A'\n",
    "\n",
    "    stars_tag = repo.find('a', href=lambda x: x and x.endswith('/stargazers'))\n",
    "    stars = stars_tag.text.strip() if stars_tag else '0'\n",
    "\n",
    "    repo_names.append(name)\n",
    "    descriptions.append(desc)\n",
    "    languages.append(lang)\n",
    "    stars_list.append(stars)"
   ]
  },
  {
   "cell_type": "code",
   "execution_count": null,
   "metadata": {},
   "outputs": [],
   "source": [
    "# Step 9: Create DataFrame\n",
    "df = pd.DataFrame({\n",
    "    'Repository': repo_names,\n",
    "    'Description': descriptions,\n",
    "    'Language': languages,\n",
    "    'Stars': stars_list\n",
    "})\n",
    "\n",
    "df.head()"
   ]
  },
  {
   "cell_type": "code",
   "execution_count": null,
   "metadata": {},
   "outputs": [],
   "source": [
    "# Step 10: Save to CSV\n",
    "df.to_csv('github_trending.csv', index=False)\n",
    "print('Saved to github_trending.csv')"
   ]
  },
  {
   "cell_type": "markdown",
   "metadata": {},
   "source": [
    "### Summary:\n",
    "- Scraped trending repos from github.com/trending\n",
    "- Extracted repo name, description, language, stars\n",
    "- Saved results to CSV\n"
   ]
  }
 ],
 "metadata": {
  "kernelspec": {
   "display_name": "Python 3",
   "language": "python",
   "name": "python3"
  },
  "language_info": {
   "name": "python",
   "version": ""
  }
 },
 "nbformat": 4,
 "nbformat_minor": 5
}
