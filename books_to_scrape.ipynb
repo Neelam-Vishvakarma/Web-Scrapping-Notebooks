{
 "cells": [
  {
   "cell_type": "markdown",
   "metadata": {},
   "source": [
    "# Scrap Book data\n",
    "\n",
    "Scrape book titles and prices from [Books to Scrape](http://books.toscrape.com/) homepage."
   ]
  },
  {
   "cell_type": "code",
   "execution_count": null,
   "metadata": {},
   "outputs": [],
   "source": [
    "# 🧰 Step 1: Import Libraries\n",
    "import requests\n",
    "from bs4 import BeautifulSoup\n",
    "import pandas as pd"
   ]
  },
  {
   "cell_type": "code",
   "execution_count": null,
   "metadata": {},
   "outputs": [],
   "source": [
    "# 🌐 Step 2: Load the Website\n",
    "url = \"http://books.toscrape.com/\"\n",
    "response = requests.get(url)\n",
    "soup = BeautifulSoup(response.text, 'html.parser')"
   ]
  },
  {
   "cell_type": "code",
   "execution_count": null,
   "metadata": {},
   "outputs": [],
   "source": [
    "# 🔍 Step 3: Inspect a Book Block (for learning)\n",
    "first_book = soup.find('article', class_='product_pod')\n",
    "print(first_book.prettify()[:800])  # Just to explore"
   ]
  },
  {
   "cell_type": "code",
   "execution_count": null,
   "metadata": {},
   "outputs": [],
   "source": [
    "# 🏷️ Step 4: Extract One Book's Title and Price\n",
    "title = first_book.h3.a['title']\n",
    "price = first_book.find('p', class_='price_color').text.strip()\n",
    "print(\"Title:\", title)\n",
    "print(\"Price:\", price)"
   ]
  },
  {
   "cell_type": "code",
   "execution_count": null,
   "metadata": {},
   "outputs": [],
   "source": [
    "# 🔁 Step 5: Extract All Titles and Prices\n",
    "books = soup.find_all('article', class_='product_pod')\n",
    "titles = []\n",
    "prices = []\n",
    "\n",
    "for book in books:\n",
    "    title = book.h3.a['title']\n",
    "    price = book.find('p', class_='price_color').text.strip()\n",
    "    titles.append(title)\n",
    "    prices.append(price)"
   ]
  },
  {
   "cell_type": "code",
   "execution_count": null,
   "metadata": {},
   "outputs": [],
   "source": [
    "# 📊 Step 6: Create a DataFrame\n",
    "df = pd.DataFrame({\n",
    "    'Title': titles,\n",
    "    'Price': prices\n",
    "})\n",
    "df.head()"
   ]
  },
  {
   "cell_type": "code",
   "execution_count": null,
   "metadata": {},
   "outputs": [],
   "source": [
    "# 💾 Step 7: Save to CSV\n",
    "df.to_csv(\"books_homepage.csv\", index=False)\n",
    "print(\"Saved as books_homepage.csv\")"
   ]
  },
  {
   "cell_type": "markdown",
   "metadata": {},
   "source": [
    "---\n",
    "### ✅ Summary:\n",
    "- Scraped book titles and prices from homepage\n",
    "- Stored the data into a CSV file for analysis\n",
    "- Used `requests`, `BeautifulSoup`, and `pandas`"
   ]
  }
 ],
 "metadata": {
  "kernelspec": {
   "display_name": "Python 3",
   "language": "python",
   "name": "python3"
  },
  "language_info": {
   "name": "python",
   "version": ""
  }
 },
 "nbformat": 4,
 "nbformat_minor": 5
}
