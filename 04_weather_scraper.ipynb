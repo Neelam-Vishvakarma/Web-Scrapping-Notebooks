{
 "cells": [
  {
   "cell_type": "markdown",
   "id": "248c18f2",
   "metadata": {},
   "source": [
    "\n",
    "# 🌦️ 04_weather_scraper.ipynb\n",
    "\n",
    "### Objective:\n",
    "Scrape current weather data (temperature, condition) from a city page on [timeanddate.com](https://www.timeanddate.com/weather/).\n",
    "\n",
    "> ✅ Beginner-friendly, no API key needed. We'll extract data using requests + BeautifulSoup.\n"
   ]
  },
  {
   "cell_type": "code",
   "execution_count": null,
   "id": "f6b346e1",
   "metadata": {},
   "outputs": [],
   "source": [
    "\n",
    "import requests\n",
    "from bs4 import BeautifulSoup\n"
   ]
  },
  {
   "cell_type": "code",
   "execution_count": null,
   "id": "1ce1e783",
   "metadata": {},
   "outputs": [],
   "source": [
    "\n",
    "headers = {\n",
    "    \"User-Agent\": \"Mozilla/5.0 (Windows NT 10.0; Win64; x64) AppleWebKit/537.36 (KHTML, like Gecko) Chrome/115.0.0.0 Safari/537.36\"\n",
    "}\n",
    "\n",
    "# Example: Tokyo weather page\n",
    "url = \"https://www.timeanddate.com/weather/japan/tokyo\"\n"
   ]
  },
  {
   "cell_type": "code",
   "execution_count": null,
   "id": "1d285210",
   "metadata": {},
   "outputs": [],
   "source": [
    "\n",
    "response = requests.get(url, headers=headers)\n",
    "soup = BeautifulSoup(response.content, \"html.parser\")\n"
   ]
  },
  {
   "cell_type": "code",
   "execution_count": null,
   "id": "9c1f9a3b",
   "metadata": {},
   "outputs": [],
   "source": [
    "\n",
    "# Temperature is usually inside <div class=\"h2\"> tag\n",
    "temp_tag = soup.find(\"div\", class_=\"h2\")\n",
    "temperature = temp_tag.text.strip() if temp_tag else \"N/A\"\n",
    "\n",
    "print(\"Temperature:\", temperature)\n"
   ]
  },
  {
   "cell_type": "code",
   "execution_count": null,
   "id": "d29d4c59",
   "metadata": {},
   "outputs": [],
   "source": [
    "\n",
    "# Condition like \"Partly Cloudy\" is inside a <p> tag under class \"bk-focus__qlook\"\n",
    "condition_tag = soup.select_one(\".bk-focus__qlook p\")\n",
    "condition = condition_tag.text.strip() if condition_tag else \"N/A\"\n",
    "\n",
    "print(\"Condition:\", condition)\n"
   ]
  },
  {
   "cell_type": "code",
   "execution_count": null,
   "id": "c24cdf8a",
   "metadata": {},
   "outputs": [],
   "source": [
    "\n",
    "print(f\"Current Weather in Tokyo: {temperature}, {condition}\")\n"
   ]
  },
  {
   "cell_type": "markdown",
   "id": "a3d06322",
   "metadata": {},
   "source": [
    "\n",
    "### ✅ Summary:\n",
    "- Fetched weather page for Tokyo\n",
    "- Extracted temperature and condition using tags/classes\n",
    "- Can be extended to scrape multiple cities\n",
    "\n",
    "> Note: This method works as long as timeanddate.com doesn't change its HTML structure.\n"
   ]
  }
 ],
 "metadata": {},
 "nbformat": 4,
 "nbformat_minor": 5
}
