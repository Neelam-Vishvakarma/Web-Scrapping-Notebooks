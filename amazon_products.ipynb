{
 "cells": [
  {
   "cell_type": "markdown",
   "metadata": {},
   "source": [
    "# Web Scraping: Amazon Product Listings\n",
    "\n",
    "> Scrape product names and prices from Amazon (for learning purposes)."
   ]
  },
  {
   "cell_type": "code",
   "execution_count": null,
   "metadata": {},
   "outputs": [],
   "source": [
    "# Step 1: Import libraries\n",
    "import requests\n",
    "from bs4 import BeautifulSoup\n",
    "import pandas as pd"
   ]
  },
  {
   "cell_type": "code",
   "execution_count": null,
   "metadata": {},
   "outputs": [],
   "source": [
    "# Step 2: Set headers and URL\n",
    "headers = {\n",
    "    \"User-Agent\": \"Mozilla/5.0 (Windows NT 10.0; Win64; x64) AppleWebKit/537.36 (KHTML, like Gecko) Chrome/115.0.0.0 Safari/537.36\",\n",
    "    \"Accept-Language\": \"en-US,en;q=0.5\"\n",
    "}\n",
    "\n",
    "# Use a sample Amazon search URL\n",
    "url = \"https://www.amazon.com/s?k=wireless+mouse\""
   ]
  },
  {
   "cell_type": "code",
   "execution_count": null,
   "metadata": {},
   "outputs": [],
   "source": [
    "# Step 3: Make the request and parse the page\n",
    "response = requests.get(url, headers=headers)\n",
    "soup = BeautifulSoup(response.content, \"html.parser\")"
   ]
  },
  {
   "cell_type": "code",
   "execution_count": null,
   "metadata": {},
   "outputs": [],
   "source": [
    "# Step 4: Find a single product (for structure inspection)\n",
    "product = soup.find(\"div\", {\"data-component-type\": \"s-search-result\"})\n",
    "print(product.prettify()[:1000])  # Show only part for readability"
   ]
  },
  {
   "cell_type": "code",
   "execution_count": null,
   "metadata": {},
   "outputs": [],
   "source": [
    "# Step 5: Extract one product name\n",
    "product_name = product.h2.text.strip()\n",
    "print(\"Product Name:\", product_name)"
   ]
  },
  {
   "cell_type": "code",
   "execution_count": null,
   "metadata": {},
   "outputs": [],
   "source": [
    "# Step 6: Extract one product price\n",
    "price_whole = product.find(\"span\", class_=\"a-price-whole\")\n",
    "price_fraction = product.find(\"span\", class_=\"a-price-fraction\")\n",
    "\n",
    "if price_whole and price_fraction:\n",
    "    full_price = f\"{price_whole.text}{price_fraction.text}\"\n",
    "else:\n",
    "    full_price = \"N/A\"\n",
    "\n",
    "print(\"Product Price:\", full_price)"
   ]
  },
  {
   "cell_type": "code",
   "execution_count": null,
   "metadata": {},
   "outputs": [],
   "source": [
    "# Step 7: Loop through all products\n",
    "names = []\n",
    "prices = []\n",
    "\n",
    "all_products = soup.find_all(\"div\", {\"data-component-type\": \"s-search-result\"})\n",
    "\n",
    "for item in all_products:\n",
    "    name_tag = item.h2\n",
    "    name = name_tag.text.strip() if name_tag else \"N/A\"\n",
    "\n",
    "    price_whole = item.find(\"span\", class_=\"a-price-whole\")\n",
    "    price_fraction = item.find(\"span\", class_=\"a-price-fraction\")\n",
    "    price = f\"{price_whole.text}{price_fraction.text}\" if price_whole and price_fraction else \"N/A\"\n",
    "\n",
    "    names.append(name)\n",
    "    prices.append(price)"
   ]
  },
  {
   "cell_type": "code",
   "execution_count": null,
   "metadata": {},
   "outputs": [],
   "source": [
    "# Step 8: Convert to DataFrame\n",
    "df = pd.DataFrame({\n",
    "    \"Product Name\": names,\n",
    "    \"Price (USD)\": prices\n",
    "})\n",
    "df.head()"
   ]
  },
  {
   "cell_type": "code",
   "execution_count": null,
   "metadata": {},
   "outputs": [],
   "source": [
    "# Step 9: Save to CSV\n",
    "df.to_csv(\"amazon_products.csv\", index=False)\n",
    "print(\"Saved to amazon_products.csv\")"
   ]
  },
  {
   "cell_type": "markdown",
   "metadata": {},
   "source": [
    "✅ **Summary**:extracted product names and prices from Amazon."
   ]
  }
 ],
 "metadata": {
  "kernelspec": {
   "display_name": "Python 3",
   "language": "python",
   "name": "python3"
  },
  "language_info": {
   "name": "python",
   "version": "3.10"
  }
 },
 "nbformat": 4,
 "nbformat_minor": 5
}
