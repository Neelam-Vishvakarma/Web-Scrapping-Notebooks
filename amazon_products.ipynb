## 02_amazon_products.ipynb

### Objective:
Scrape product names and prices from Amazon using `requests` and `BeautifulSoup`.

> ⚠️ **Important**: Amazon actively blocks bots. We'll simulate a real browser with headers. Results may vary.

---

### 🧰 Step 1: Import Libraries
```python
import requests
from bs4 import BeautifulSoup
import pandas as pd
```

---

### 🔧 Step 2: Set Headers and URL
```python
headers = {
    "User-Agent": "Mozilla/5.0 (Windows NT 10.0; Win64; x64) AppleWebKit/537.36 (KHTML, like Gecko) Chrome/115.0.0.0 Safari/537.36",
    "Accept-Language": "en-US,en;q=0.5"
}

# You can search any product here and copy its result page URL
url = "https://www.amazon.com/s?k=wireless+mouse"
```

---

### 📥 Step 3: Send Request and Parse HTML
```python
response = requests.get(url, headers=headers)
soup = BeautifulSoup(response.content, "html.parser")
```

---

### 🔍 Step 4: Locate Single Product to Understand Structure
```python
# First, find one product container
product = soup.find("div", {"data-component-type": "s-search-result"})

# Check how it looks
print(product.prettify()[:1000])  # Print limited characters for readability
```

---

### 🔍 Step 5: Extract Single Product Name
```python
product_name = product.h2.text.strip()
print("Product Name:", product_name)
```

---

### 💲 Step 6: Extract Single Product Price
```python
price_whole = product.find("span", class_="a-price-whole")
price_fraction = product.find("span", class_="a-price-fraction")

if price_whole and price_fraction:
    full_price = f"{price_whole.text}{price_fraction.text}"
else:
    full_price = "N/A"

print("Product Price:", full_price)
```

---

### 🔁 Step 7: Loop Over All Products on Page
```python
names = []
prices = []

all_products = soup.find_all("div", {"data-component-type": "s-search-result"})

for item in all_products:
    name_tag = item.h2
    name = name_tag.text.strip() if name_tag else "N/A"

    price_whole = item.find("span", class_="a-price-whole")
    price_fraction = item.find("span", class_="a-price-fraction")
    price = f"{price_whole.text}{price_fraction.text}" if price_whole and price_fraction else "N/A"

    names.append(name)
    prices.append(price)
```

---

### 📊 Step 8: Create DataFrame and Display
```python
df = pd.DataFrame({
    "Product Name": names,
    "Price (USD)": prices
})

df.head()
```

---

### 💾 Step 9: Save to CSV
```python
df.to_csv("amazon_products.csv", index=False)
print("Saved to amazon_products.csv")
```

---

### ✅ Summary
- Used `headers` to simulate a browser
- Extracted product names and prices
- Built a DataFrame step-by-step
- Saved results to CSV

---
