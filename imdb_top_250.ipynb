{
 "cells": [
  {
   "cell_type": "markdown",
   "metadata": {},
   "source": [
    "# Scrap top 50 movies from IDMB. \n",
    "\n",
    "### Objective:\n",
    "Scrape top 50 movies from [IMDB Top 250](https://www.imdb.com/chart/top) using `requests` and `BeautifulSoup`\n",
    "- Extract Title, Year, and IMDB Rating"
   ]
  },
  {
   "cell_type": "code",
   "execution_count": null,
   "metadata": {},
   "outputs": [],
   "source": [
    "# 📦 Step 1: Import Libraries\n",
    "import requests\n",
    "from bs4 import BeautifulSoup\n",
    "import pandas as pd"
   ]
  },
  {
   "cell_type": "code",
   "execution_count": null,
   "metadata": {},
   "outputs": [],
   "source": [
    "# 🌐 Step 2: Fetch IMDB Top 250 Page\n",
    "url = \"https://www.imdb.com/chart/top\"\n",
    "headers = {'User-Agent': 'Mozilla/5.0'}  # To prevent 403\n",
    "response = requests.get(url, headers=headers)\n",
    "soup = BeautifulSoup(response.text, 'html.parser')"
   ]
  },
  {
   "cell_type": "code",
   "execution_count": null,
   "metadata": {},
   "outputs": [],
   "source": [
    "# 🔍 Step 3: Inspect Page and Extract Rows\n",
    "rows = soup.select('tbody.lister-list tr')\n",
    "print(\"Total Movies Found:\", len(rows))"
   ]
  },
  {
   "cell_type": "code",
   "execution_count": null,
   "metadata": {},
   "outputs": [],
   "source": [
    "# 📥 Step 4: Extract Top 50 Movie Info\n",
    "titles = []\n",
    "years = []\n",
    "ratings = []\n",
    "\n",
    "for row in rows[:50]:\n",
    "    title = row.find('td', class_='titleColumn').a.text.strip()\n",
    "    year = row.find('span', class_='secondaryInfo').text.strip(\"()\")\n",
    "    rating = row.find('td', class_='imdbRating').strong.text.strip()\n",
    "\n",
    "    titles.append(title)\n",
    "    years.append(int(year))\n",
    "    ratings.append(float(rating))"
   ]
  },
  {
   "cell_type": "code",
   "execution_count": null,
   "metadata": {},
   "outputs": [],
   "source": [
    "# 📊 Step 5: Create DataFrame\n",
    "df = pd.DataFrame({\n",
    "    'Title': titles,\n",
    "    'Year': years,\n",
    "    'Rating': ratings\n",
    "})\n",
    "df.head()"
   ]
  },
  {
   "cell_type": "code",
   "execution_count": null,
   "metadata": {},
   "outputs": [],
   "source": [
    "# 📈 Step 6: Optional – Sort by Rating or Year\n",
    "df.sort_values(by='Rating', ascending=False).head(10)"
   ]
  },
  {
   "cell_type": "code",
   "execution_count": null,
   "metadata": {},
   "outputs": [],
   "source": [
    "# 💾 Step 7: Save to CSV\n",
    "df.to_csv(\"imdb_top50_movies.csv\", index=False)\n",
    "print(\"Saved as imdb_top50_movies.csv\")"
   ]
  },
  {
   "cell_type": "markdown",
   "metadata": {},
   "source": [
    "---\n",
    "### ✅ Summary:\n",
    "- Scraped Top 50 movies from IMDB Top 250 chart\n",
    "- Extracted Title, Year, and Rating\n",
    "- Stored results in a CSV file"
   ]
  }
 ],
 "metadata": {
  "kernelspec": {
   "display_name": "Python 3",
   "language": "python",
   "name": "python3"
  },
  "language_info": {
   "name": "python",
   "version": ""
  }
 },
 "nbformat": 4,
 "nbformat_minor": 5
}
