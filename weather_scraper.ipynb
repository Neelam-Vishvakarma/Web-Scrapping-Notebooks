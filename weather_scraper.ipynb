{
 "cells": [
  {
   "cell_type": "markdown",
   "metadata": {},
   "source": [
    "# Scrap weather information from weather.com website.\n",
    "\n",
    "- Extract temperature, weather condition, humidity, wind speed"
   ]
  },
  {
   "cell_type": "code",
   "execution_count": null,
   "metadata": {},
   "outputs": [],
   "source": [
    "# Step 1: Import libraries\n",
    "import requests\n",
    "from bs4 import BeautifulSoup"
   ]
  },
  {
   "cell_type": "code",
   "execution_count": null,
   "metadata": {},
   "outputs": [],
   "source": [
    "# Step 2: Define city URL and headers\n",
    "city = \"Tokyo\"\n",
    "url = f\"https://weather.com/weather/today/l/{city}\"  # This is a placeholder, actual URLs have codes\n",
    "\n",
    "# Usually, weather.com URLs are like:\n",
    "# https://weather.com/weather/today/l/JPXX0085:1:JP  (Tokyo code example)\n",
    "# For demo, we use a fixed Tokyo URL\n",
    "url = \"https://weather.com/weather/today/l/JPXX0085:1:JP\"\n",
    "headers = {'User-Agent': 'Mozilla/5.0'}"
   ]
  },
  {
   "cell_type": "code",
   "execution_count": null,
   "metadata": {},
   "outputs": [],
   "source": [
    "# Step 3: Send request and parse\n",
    "response = requests.get(url, headers=headers)\n",
    "soup = BeautifulSoup(response.text, 'html.parser')"
   ]
  },
  {
   "cell_type": "code",
   "execution_count": null,
   "metadata": {},
   "outputs": [],
   "source": [
    "# Step 4: Locate temperature\n",
    "temp_tag = soup.find('span', class_='CurrentConditions--tempValue--3KcTQ')\n",
    "temperature = temp_tag.text if temp_tag else 'N/A'\n",
    "print(f\"Temperature: {temperature}\")"
   ]
  },
  {
   "cell_type": "code",
   "execution_count": null,
   "metadata": {},
   "outputs": [],
   "source": [
    "# Step 5: Locate weather condition (e.g., Clear, Rain)\n",
    "condition_tag = soup.find('div', class_='CurrentConditions--phraseValue--2xXSr')\n",
    "condition = condition_tag.text if condition_tag else 'N/A'\n",
    "print(f\"Condition: {condition}\")"
   ]
  },
  {
   "cell_type": "code",
   "execution_count": null,
   "metadata": {},
   "outputs": [],
   "source": [
    "# Step 6: Extract additional info: humidity and wind\n",
    "humidity_tag = soup.find('span', text='Humidity').find_next('span') if soup.find('span', text='Humidity') else None\n",
    "humidity = humidity_tag.text if humidity_tag else 'N/A'\n",
    "\n",
    "wind_tag = soup.find('span', text='Wind').find_next('span') if soup.find('span', text='Wind') else None\n",
    "wind = wind_tag.text if wind_tag else 'N/A'\n",
    "\n",
    "print(f\"Humidity: {humidity}\")\n",
    "print(f\"Wind: {wind}\")"
   ]
  },
  {
   "cell_type": "markdown",
   "metadata": {},
   "source": [
    "### Summary\n",
    "- Scraped temperature and weather condition from weather.com\n",
    "- Extracted humidity and wind speed\n",
    "- Note: URLs and class names may change frequently for weather sites\n",
    "- For reliable data, official APIs are recommended"
   ]
  }
 ],
 "metadata": {
  "kernelspec": {
   "display_name": "Python 3",
   "language": "python",
   "name": "python3"
  },
  "language_info": {
   "name": "python",
   "version": ""
  }
 },
 "nbformat": 4,
 "nbformat_minor": 5
}
